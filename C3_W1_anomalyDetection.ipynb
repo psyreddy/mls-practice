{
 "cells": [
  {
   "attachments": {},
   "cell_type": "markdown",
   "metadata": {},
   "source": [
    "# Anomaly Detection"
   ]
  },
  {
   "cell_type": "code",
   "execution_count": 37,
   "metadata": {},
   "outputs": [],
   "source": [
    "# Import the required packages\n",
    "import numpy as np\n",
    "import matplotlib.pyplot as plt\n",
    "%matplotlib inline"
   ]
  },
  {
   "cell_type": "code",
   "execution_count": 38,
   "metadata": {},
   "outputs": [],
   "source": [
    "# Load the data\n",
    "# Unlabelled data\n",
    "x_train = np.load(\"data/C3_W1/data/X_part1.npy\")\n",
    "# Labeled data for cross validation (Finding ε)\n",
    "x_cv = np.load(\"data/C3_W1/data/X_val_part1.npy\")\n",
    "y_cv = np.load(\"data/C3_W1/data/y_val_part1.npy\")"
   ]
  },
  {
   "cell_type": "code",
   "execution_count": 39,
   "metadata": {},
   "outputs": [],
   "source": [
    "# Gaussian distribution for one feature\n",
    "def estimate_gaussian(x): \n",
    "    mu=np.mean(x,axis=0)\n",
    "    var=np.var(x,axis=0)   \n",
    "    return mu, var"
   ]
  },
  {
   "cell_type": "code",
   "execution_count": 61,
   "metadata": {},
   "outputs": [],
   "source": [
    "# Taking the product of probabilities of all features\n",
    "def multi_feature_prob(x):\n",
    "    m , n = np.shape(x)\n",
    "    prob = np.zeros((m,n))\n",
    "    for i in range(n):\n",
    "        mu,var = estimate_gaussian(x[:,i])\n",
    "        prob[:,i] = np.exp(-1*((x[:,i]-mu)**2)/(2*var))/((2*np.pi*var)**0.5)\n",
    "    p = np.zeros(m)\n",
    "    for i in range(m):\n",
    "        p[i] = np.product(prob[i])\n",
    "    return p"
   ]
  }
 ],
 "metadata": {
  "kernelspec": {
   "display_name": "Python 3",
   "language": "python",
   "name": "python3"
  },
  "language_info": {
   "codemirror_mode": {
    "name": "ipython",
    "version": 3
   },
   "file_extension": ".py",
   "mimetype": "text/x-python",
   "name": "python",
   "nbconvert_exporter": "python",
   "pygments_lexer": "ipython3",
   "version": "3.9.6"
  },
  "orig_nbformat": 4
 },
 "nbformat": 4,
 "nbformat_minor": 2
}
